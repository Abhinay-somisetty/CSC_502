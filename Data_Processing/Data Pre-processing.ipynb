{
 "cells": [
  {
   "cell_type": "code",
   "execution_count": 219,
   "metadata": {},
   "outputs": [],
   "source": [
    "import pandas as pd\n",
    "import numpy as np"
   ]
  },
  {
   "cell_type": "code",
   "execution_count": 246,
   "metadata": {},
   "outputs": [
    {
     "data": {
      "text/html": [
       "<div>\n",
       "<style scoped>\n",
       "    .dataframe tbody tr th:only-of-type {\n",
       "        vertical-align: middle;\n",
       "    }\n",
       "\n",
       "    .dataframe tbody tr th {\n",
       "        vertical-align: top;\n",
       "    }\n",
       "\n",
       "    .dataframe thead th {\n",
       "        text-align: right;\n",
       "    }\n",
       "</style>\n",
       "<table border=\"1\" class=\"dataframe\">\n",
       "  <thead>\n",
       "    <tr style=\"text-align: right;\">\n",
       "      <th></th>\n",
       "      <th>TotalPop</th>\n",
       "      <th>Poverty</th>\n",
       "    </tr>\n",
       "    <tr>\n",
       "      <th>State</th>\n",
       "      <th></th>\n",
       "      <th></th>\n",
       "    </tr>\n",
       "  </thead>\n",
       "  <tbody>\n",
       "    <tr>\n",
       "      <td>Alabama</td>\n",
       "      <td>4850771</td>\n",
       "      <td>20.949254</td>\n",
       "    </tr>\n",
       "    <tr>\n",
       "      <td>Alaska</td>\n",
       "      <td>738565</td>\n",
       "      <td>13.555172</td>\n",
       "    </tr>\n",
       "    <tr>\n",
       "      <td>Arizona</td>\n",
       "      <td>6809946</td>\n",
       "      <td>20.193333</td>\n",
       "    </tr>\n",
       "    <tr>\n",
       "      <td>Arkansas</td>\n",
       "      <td>2977944</td>\n",
       "      <td>20.421333</td>\n",
       "    </tr>\n",
       "    <tr>\n",
       "      <td>California</td>\n",
       "      <td>38982847</td>\n",
       "      <td>15.737931</td>\n",
       "    </tr>\n",
       "  </tbody>\n",
       "</table>\n",
       "</div>"
      ],
      "text/plain": [
       "            TotalPop    Poverty\n",
       "State                          \n",
       "Alabama      4850771  20.949254\n",
       "Alaska        738565  13.555172\n",
       "Arizona      6809946  20.193333\n",
       "Arkansas     2977944  20.421333\n",
       "California  38982847  15.737931"
      ]
     },
     "execution_count": 246,
     "metadata": {},
     "output_type": "execute_result"
    }
   ],
   "source": [
    "#transforming census data\n",
    "df = pd.read_csv('C:/csc502/Data_Visualizations/Census/acs2017_county_data.csv')\n",
    "result_df.head()"
   ]
  },
  {
   "cell_type": "code",
   "execution_count": 221,
   "metadata": {},
   "outputs": [],
   "source": [
    "new_df = df.dropna(subset=['CountyId'])"
   ]
  },
  {
   "cell_type": "code",
   "execution_count": 222,
   "metadata": {},
   "outputs": [],
   "source": [
    "#summing the state population and finding the poverty mean for each state.\n",
    "result_df = new_df.groupby('State').agg({'TotalPop':'sum', 'Poverty':'mean'})"
   ]
  },
  {
   "cell_type": "code",
   "execution_count": 223,
   "metadata": {},
   "outputs": [],
   "source": [
    "result_df[['TotalPop']].to_csv('C:\\\\csc502\\\\Data_Visualizations\\\\Census\\\\updated\\\\TotalPop.csv')"
   ]
  },
  {
   "cell_type": "code",
   "execution_count": 224,
   "metadata": {},
   "outputs": [],
   "source": [
    "result_df[['Poverty']].to_csv('C:\\\\csc502\\\\Data_Visualizations\\\\Census\\\\updated\\\\poverty.csv')"
   ]
  },
  {
   "cell_type": "code",
   "execution_count": 245,
   "metadata": {},
   "outputs": [
    {
     "data": {
      "text/html": [
       "<div>\n",
       "<style scoped>\n",
       "    .dataframe tbody tr th:only-of-type {\n",
       "        vertical-align: middle;\n",
       "    }\n",
       "\n",
       "    .dataframe tbody tr th {\n",
       "        vertical-align: top;\n",
       "    }\n",
       "\n",
       "    .dataframe thead th {\n",
       "        text-align: right;\n",
       "    }\n",
       "</style>\n",
       "<table border=\"1\" class=\"dataframe\">\n",
       "  <thead>\n",
       "    <tr style=\"text-align: right;\">\n",
       "      <th></th>\n",
       "      <th>TotalPop</th>\n",
       "      <th>Poverty</th>\n",
       "    </tr>\n",
       "    <tr>\n",
       "      <th>State</th>\n",
       "      <th></th>\n",
       "      <th></th>\n",
       "    </tr>\n",
       "  </thead>\n",
       "  <tbody>\n",
       "    <tr>\n",
       "      <td>Alabama</td>\n",
       "      <td>4850771</td>\n",
       "      <td>20.949254</td>\n",
       "    </tr>\n",
       "    <tr>\n",
       "      <td>Alaska</td>\n",
       "      <td>738565</td>\n",
       "      <td>13.555172</td>\n",
       "    </tr>\n",
       "    <tr>\n",
       "      <td>Arizona</td>\n",
       "      <td>6809946</td>\n",
       "      <td>20.193333</td>\n",
       "    </tr>\n",
       "    <tr>\n",
       "      <td>Arkansas</td>\n",
       "      <td>2977944</td>\n",
       "      <td>20.421333</td>\n",
       "    </tr>\n",
       "    <tr>\n",
       "      <td>California</td>\n",
       "      <td>38982847</td>\n",
       "      <td>15.737931</td>\n",
       "    </tr>\n",
       "  </tbody>\n",
       "</table>\n",
       "</div>"
      ],
      "text/plain": [
       "            TotalPop    Poverty\n",
       "State                          \n",
       "Alabama      4850771  20.949254\n",
       "Alaska        738565  13.555172\n",
       "Arizona      6809946  20.193333\n",
       "Arkansas     2977944  20.421333\n",
       "California  38982847  15.737931"
      ]
     },
     "execution_count": 245,
     "metadata": {},
     "output_type": "execute_result"
    }
   ],
   "source": [
    "result_df.head()"
   ]
  },
  {
   "cell_type": "code",
   "execution_count": 225,
   "metadata": {},
   "outputs": [
    {
     "data": {
      "text/html": [
       "<div>\n",
       "<style scoped>\n",
       "    .dataframe tbody tr th:only-of-type {\n",
       "        vertical-align: middle;\n",
       "    }\n",
       "\n",
       "    .dataframe tbody tr th {\n",
       "        vertical-align: top;\n",
       "    }\n",
       "\n",
       "    .dataframe thead th {\n",
       "        text-align: right;\n",
       "    }\n",
       "</style>\n",
       "<table border=\"1\" class=\"dataframe\">\n",
       "  <thead>\n",
       "    <tr style=\"text-align: right;\">\n",
       "      <th></th>\n",
       "      <th>Company</th>\n",
       "      <th>Product</th>\n",
       "      <th>Inches</th>\n",
       "      <th>Price_euros</th>\n",
       "      <th>SSD_Memory(GB)</th>\n",
       "      <th>HDD_Memory(GB)</th>\n",
       "      <th>Ram(GB)</th>\n",
       "      <th>ScreenResolution(pixels)</th>\n",
       "      <th>CPU_Type</th>\n",
       "      <th>CPU_Frequency(GHz)</th>\n",
       "      <th>GPU_Type</th>\n",
       "    </tr>\n",
       "    <tr>\n",
       "      <th>Index</th>\n",
       "      <th></th>\n",
       "      <th></th>\n",
       "      <th></th>\n",
       "      <th></th>\n",
       "      <th></th>\n",
       "      <th></th>\n",
       "      <th></th>\n",
       "      <th></th>\n",
       "      <th></th>\n",
       "      <th></th>\n",
       "      <th></th>\n",
       "    </tr>\n",
       "  </thead>\n",
       "  <tbody>\n",
       "    <tr>\n",
       "      <td>1</td>\n",
       "      <td>Apple</td>\n",
       "      <td>MacBook Pro</td>\n",
       "      <td>13.3</td>\n",
       "      <td>1339.69</td>\n",
       "      <td>128</td>\n",
       "      <td>0</td>\n",
       "      <td>8</td>\n",
       "      <td>2560x1600</td>\n",
       "      <td>Intel Core</td>\n",
       "      <td>2.3</td>\n",
       "      <td>Intel Iris</td>\n",
       "    </tr>\n",
       "    <tr>\n",
       "      <td>3</td>\n",
       "      <td>HP</td>\n",
       "      <td>250 G6</td>\n",
       "      <td>15.6</td>\n",
       "      <td>575.00</td>\n",
       "      <td>256</td>\n",
       "      <td>0</td>\n",
       "      <td>8</td>\n",
       "      <td>1920x1080</td>\n",
       "      <td>Intel Core</td>\n",
       "      <td>2.5</td>\n",
       "      <td>Intel HD</td>\n",
       "    </tr>\n",
       "    <tr>\n",
       "      <td>4</td>\n",
       "      <td>Apple</td>\n",
       "      <td>MacBook Pro</td>\n",
       "      <td>15.4</td>\n",
       "      <td>2537.45</td>\n",
       "      <td>512</td>\n",
       "      <td>0</td>\n",
       "      <td>16</td>\n",
       "      <td>2880x1800</td>\n",
       "      <td>Intel Core</td>\n",
       "      <td>2.7</td>\n",
       "      <td>AMD Radeon</td>\n",
       "    </tr>\n",
       "    <tr>\n",
       "      <td>5</td>\n",
       "      <td>Apple</td>\n",
       "      <td>MacBook Pro</td>\n",
       "      <td>13.3</td>\n",
       "      <td>1803.60</td>\n",
       "      <td>256</td>\n",
       "      <td>0</td>\n",
       "      <td>8</td>\n",
       "      <td>2560x1600</td>\n",
       "      <td>Intel Core</td>\n",
       "      <td>3.1</td>\n",
       "      <td>Intel Iris</td>\n",
       "    </tr>\n",
       "    <tr>\n",
       "      <td>6</td>\n",
       "      <td>Acer</td>\n",
       "      <td>Aspire 3</td>\n",
       "      <td>15.6</td>\n",
       "      <td>400.00</td>\n",
       "      <td>0</td>\n",
       "      <td>500</td>\n",
       "      <td>4</td>\n",
       "      <td>1366x768</td>\n",
       "      <td>AMD A9-Series</td>\n",
       "      <td>3</td>\n",
       "      <td>AMD Radeon</td>\n",
       "    </tr>\n",
       "  </tbody>\n",
       "</table>\n",
       "</div>"
      ],
      "text/plain": [
       "      Company      Product  Inches  Price_euros SSD_Memory(GB) HDD_Memory(GB)  \\\n",
       "Index                                                                           \n",
       "1       Apple  MacBook Pro    13.3      1339.69            128              0   \n",
       "3          HP       250 G6    15.6       575.00            256              0   \n",
       "4       Apple  MacBook Pro    15.4      2537.45            512              0   \n",
       "5       Apple  MacBook Pro    13.3      1803.60            256              0   \n",
       "6        Acer     Aspire 3    15.6       400.00              0            500   \n",
       "\n",
       "      Ram(GB) ScreenResolution(pixels)       CPU_Type CPU_Frequency(GHz)  \\\n",
       "Index                                                                      \n",
       "1           8                2560x1600     Intel Core                2.3   \n",
       "3           8                1920x1080     Intel Core                2.5   \n",
       "4          16                2880x1800     Intel Core                2.7   \n",
       "5           8                2560x1600     Intel Core                3.1   \n",
       "6           4                 1366x768  AMD A9-Series                  3   \n",
       "\n",
       "         GPU_Type  \n",
       "Index              \n",
       "1      Intel Iris  \n",
       "3        Intel HD  \n",
       "4      AMD Radeon  \n",
       "5      Intel Iris  \n",
       "6      AMD Radeon  "
      ]
     },
     "execution_count": 225,
     "metadata": {},
     "output_type": "execute_result"
    }
   ],
   "source": [
    "laptops_df = pd.read_csv('C:\\csc502\\Data_Visualizations\\Parallel_Coordinates\\ParallelCo_Laptopcs_Kaggle.csv', encoding = \"ISO-8859-1\", index_col=\"Index\")\n",
    "laptops.head()"
   ]
  },
  {
   "cell_type": "code",
   "execution_count": 226,
   "metadata": {},
   "outputs": [
    {
     "data": {
      "text/plain": [
       "array(['Apple', 'HP', 'Acer', 'Asus', 'Dell', 'Lenovo', 'Chuwi', 'MSI',\n",
       "       'Microsoft', 'Toshiba', 'Huawei', 'Xiaomi', 'Vero', 'Razer',\n",
       "       'Mediacom', 'Samsung', 'Google', 'Fujitsu', 'LG'], dtype=object)"
      ]
     },
     "execution_count": 226,
     "metadata": {},
     "output_type": "execute_result"
    }
   ],
   "source": [
    "# Get unique values for the company name\n",
    "companies = laptops_df['Company'].unique()\n",
    "companies"
   ]
  },
  {
   "cell_type": "code",
   "execution_count": 227,
   "metadata": {},
   "outputs": [],
   "source": [
    "#deleting rows where memory column contains FLash\n",
    "laptops_df = laptops_df[~laptops_df.Memory.str.contains('Flash')].copy()"
   ]
  },
  {
   "cell_type": "code",
   "execution_count": 228,
   "metadata": {},
   "outputs": [],
   "source": [
    "#funtion to split SSD and HDD and convert TB to HB\n",
    "def convert_memory_SSD(x):\n",
    "    tokens = str(x).split()  # split the string\n",
    "    if tokens[1] == 'SSD':\n",
    "        memory = tokens[0]\n",
    "        if memory[-2:] == 'TB':\n",
    "            return str(float(memory[:-2]) * 1024)\n",
    "        else:\n",
    "            return memory[:-2]\n",
    "    else:\n",
    "        return '0'"
   ]
  },
  {
   "cell_type": "code",
   "execution_count": 229,
   "metadata": {},
   "outputs": [],
   "source": [
    "# apply the function to each entry in the \"Memory\" column\n",
    "laptops_df['SSD_Memory(GB)'] = laptops_df['Memory'].apply(convert_memory_SSD)"
   ]
  },
  {
   "cell_type": "code",
   "execution_count": 230,
   "metadata": {},
   "outputs": [],
   "source": [
    "#method to split HDD memory and add a new column HDD memory and convert to GB\n",
    "def convert_memory_HDD(x):\n",
    "    tokens = str(x).split()\n",
    "    if len(tokens) > 2:\n",
    "        if tokens[2] == '+': # if it contains SSD and HDD\n",
    "            memory = tokens[3]  # convert from TB to GB\n",
    "            if memory[-2:] == 'TB':\n",
    "                return str(float(memory[:-2]) * 1024)\n",
    "            else:\n",
    "                return memory[:-2]\n",
    "        else:\n",
    "            return '0'\n",
    "    else:  # if it contains only HDD\n",
    "        if tokens[1] == 'HDD':\n",
    "            memory = tokens[0]  # convert from TB to GB\n",
    "            if memory[-2:] == 'TB':\n",
    "                return str(float(memory[:-2]) * 1024)\n",
    "            else:\n",
    "                return memory[:-2]\n",
    "        else:\n",
    "            return '0'"
   ]
  },
  {
   "cell_type": "code",
   "execution_count": 231,
   "metadata": {},
   "outputs": [],
   "source": [
    "laptops_df['HDD_Memory(GB)'] = laptops_df['Memory'].apply(convert_memory_HDD)"
   ]
  },
  {
   "cell_type": "code",
   "execution_count": 232,
   "metadata": {},
   "outputs": [],
   "source": [
    "del laptops_df['Memory']"
   ]
  },
  {
   "cell_type": "code",
   "execution_count": 234,
   "metadata": {},
   "outputs": [],
   "source": [
    "laptops_df['Weight'].str[-2:].unique()\n",
    "laptops_df['Weight(kg)'] = laptops_df['Weight'].apply(lambda x: str(x)[:-2])\n",
    "del laptops_df['Weight']"
   ]
  },
  {
   "cell_type": "code",
   "execution_count": 235,
   "metadata": {},
   "outputs": [],
   "source": [
    "laptops_df['Ram'].str[-2:].unique()\n",
    "laptops_df['Ram(GB)'] = laptops_df['Ram'].apply(lambda x: str(x)[:-2])\n",
    "del laptops_df['Ram']"
   ]
  },
  {
   "cell_type": "code",
   "execution_count": 236,
   "metadata": {},
   "outputs": [],
   "source": [
    "# Remove the first few words for each entry in the column named \"ScreenResolution\"\n",
    "laptops_df['ScreenResolution(pixels)'] = laptops_df['ScreenResolution'].apply(lambda x: str(x).split()[-1])\n",
    "del laptops_df['ScreenResolution']"
   ]
  },
  {
   "cell_type": "code",
   "execution_count": 238,
   "metadata": {},
   "outputs": [],
   "source": [
    "def cpu_type(x):\n",
    "    tokens = str(x).split()\n",
    "    cpuType = tokens[:-1]\n",
    "    if cpuType[0] == 'Intel':\n",
    "        if len(cpuType) > 3:\n",
    "            return ' '.join(cpuType[:3])\n",
    "        else:\n",
    "            return ' '.join(cpuType)\n",
    "    elif cpuType[0] == 'AMD':\n",
    "        if len(cpuType) > 2:\n",
    "            return ' '.join(cpuType[:2])\n",
    "        else:\n",
    "            return ' '.join(cpuType)\n",
    "    else:\n",
    "        return ' '.join(cpuType)\n",
    "\n",
    "laptops_df['CPU_Type'] = laptops_df['Cpu'].apply(lambda x: ' '.join(str(x).split()[:2]))"
   ]
  },
  {
   "cell_type": "code",
   "execution_count": 239,
   "metadata": {},
   "outputs": [],
   "source": [
    "laptops_df['CPU_Frequency(GHz)'] = laptops_df['Cpu'].apply(lambda x: str(x).split()[-1][:-3])\n",
    "del laptops_df['Cpu']"
   ]
  },
  {
   "cell_type": "code",
   "execution_count": 241,
   "metadata": {},
   "outputs": [],
   "source": [
    "laptops_df['GPU_Type'] = laptops_df['Gpu'].apply(lambda x: ' '.join(str(x).split()[:2]))\n",
    "del laptops_df['Gpu']\n",
    "del laptops_df['TypeName']\n",
    "del laptops_df['OpSys']\n",
    "del laptops_df['Weight(kg)']"
   ]
  },
  {
   "cell_type": "code",
   "execution_count": 242,
   "metadata": {},
   "outputs": [
    {
     "data": {
      "text/html": [
       "<div>\n",
       "<style scoped>\n",
       "    .dataframe tbody tr th:only-of-type {\n",
       "        vertical-align: middle;\n",
       "    }\n",
       "\n",
       "    .dataframe tbody tr th {\n",
       "        vertical-align: top;\n",
       "    }\n",
       "\n",
       "    .dataframe thead th {\n",
       "        text-align: right;\n",
       "    }\n",
       "</style>\n",
       "<table border=\"1\" class=\"dataframe\">\n",
       "  <thead>\n",
       "    <tr style=\"text-align: right;\">\n",
       "      <th></th>\n",
       "      <th>Company</th>\n",
       "      <th>Product</th>\n",
       "      <th>Inches</th>\n",
       "      <th>Price_euros</th>\n",
       "      <th>SSD_Memory(GB)</th>\n",
       "      <th>HDD_Memory(GB)</th>\n",
       "      <th>Ram(GB)</th>\n",
       "      <th>ScreenResolution(pixels)</th>\n",
       "      <th>CPU_Type</th>\n",
       "      <th>CPU_Frequency(GHz)</th>\n",
       "      <th>GPU_Type</th>\n",
       "    </tr>\n",
       "    <tr>\n",
       "      <th>Index</th>\n",
       "      <th></th>\n",
       "      <th></th>\n",
       "      <th></th>\n",
       "      <th></th>\n",
       "      <th></th>\n",
       "      <th></th>\n",
       "      <th></th>\n",
       "      <th></th>\n",
       "      <th></th>\n",
       "      <th></th>\n",
       "      <th></th>\n",
       "    </tr>\n",
       "  </thead>\n",
       "  <tbody>\n",
       "    <tr>\n",
       "      <td>1</td>\n",
       "      <td>Apple</td>\n",
       "      <td>MacBook Pro</td>\n",
       "      <td>13.3</td>\n",
       "      <td>1339.69</td>\n",
       "      <td>128</td>\n",
       "      <td>0</td>\n",
       "      <td>8</td>\n",
       "      <td>2560x1600</td>\n",
       "      <td>Intel Core</td>\n",
       "      <td>2.3</td>\n",
       "      <td>Intel Iris</td>\n",
       "    </tr>\n",
       "    <tr>\n",
       "      <td>3</td>\n",
       "      <td>HP</td>\n",
       "      <td>250 G6</td>\n",
       "      <td>15.6</td>\n",
       "      <td>575.00</td>\n",
       "      <td>256</td>\n",
       "      <td>0</td>\n",
       "      <td>8</td>\n",
       "      <td>1920x1080</td>\n",
       "      <td>Intel Core</td>\n",
       "      <td>2.5</td>\n",
       "      <td>Intel HD</td>\n",
       "    </tr>\n",
       "    <tr>\n",
       "      <td>4</td>\n",
       "      <td>Apple</td>\n",
       "      <td>MacBook Pro</td>\n",
       "      <td>15.4</td>\n",
       "      <td>2537.45</td>\n",
       "      <td>512</td>\n",
       "      <td>0</td>\n",
       "      <td>16</td>\n",
       "      <td>2880x1800</td>\n",
       "      <td>Intel Core</td>\n",
       "      <td>2.7</td>\n",
       "      <td>AMD Radeon</td>\n",
       "    </tr>\n",
       "    <tr>\n",
       "      <td>5</td>\n",
       "      <td>Apple</td>\n",
       "      <td>MacBook Pro</td>\n",
       "      <td>13.3</td>\n",
       "      <td>1803.60</td>\n",
       "      <td>256</td>\n",
       "      <td>0</td>\n",
       "      <td>8</td>\n",
       "      <td>2560x1600</td>\n",
       "      <td>Intel Core</td>\n",
       "      <td>3.1</td>\n",
       "      <td>Intel Iris</td>\n",
       "    </tr>\n",
       "    <tr>\n",
       "      <td>6</td>\n",
       "      <td>Acer</td>\n",
       "      <td>Aspire 3</td>\n",
       "      <td>15.6</td>\n",
       "      <td>400.00</td>\n",
       "      <td>0</td>\n",
       "      <td>500</td>\n",
       "      <td>4</td>\n",
       "      <td>1366x768</td>\n",
       "      <td>AMD A9-Series</td>\n",
       "      <td>3</td>\n",
       "      <td>AMD Radeon</td>\n",
       "    </tr>\n",
       "  </tbody>\n",
       "</table>\n",
       "</div>"
      ],
      "text/plain": [
       "      Company      Product  Inches  Price_euros SSD_Memory(GB) HDD_Memory(GB)  \\\n",
       "Index                                                                           \n",
       "1       Apple  MacBook Pro    13.3      1339.69            128              0   \n",
       "3          HP       250 G6    15.6       575.00            256              0   \n",
       "4       Apple  MacBook Pro    15.4      2537.45            512              0   \n",
       "5       Apple  MacBook Pro    13.3      1803.60            256              0   \n",
       "6        Acer     Aspire 3    15.6       400.00              0            500   \n",
       "\n",
       "      Ram(GB) ScreenResolution(pixels)       CPU_Type CPU_Frequency(GHz)  \\\n",
       "Index                                                                      \n",
       "1           8                2560x1600     Intel Core                2.3   \n",
       "3           8                1920x1080     Intel Core                2.5   \n",
       "4          16                2880x1800     Intel Core                2.7   \n",
       "5           8                2560x1600     Intel Core                3.1   \n",
       "6           4                 1366x768  AMD A9-Series                  3   \n",
       "\n",
       "         GPU_Type  \n",
       "Index              \n",
       "1      Intel Iris  \n",
       "3        Intel HD  \n",
       "4      AMD Radeon  \n",
       "5      Intel Iris  \n",
       "6      AMD Radeon  "
      ]
     },
     "execution_count": 242,
     "metadata": {},
     "output_type": "execute_result"
    }
   ],
   "source": [
    "laptops_df.head()"
   ]
  },
  {
   "cell_type": "code",
   "execution_count": 243,
   "metadata": {},
   "outputs": [],
   "source": [
    "#laptops.head()\n",
    "# write the cleaned dataset in a .csv file\n",
    "laptops_df.to_csv('C:\\csc502\\Data_Visualizations\\Parallel_Coordinates\\ParallelCo_updated.csv')"
   ]
  },
  {
   "cell_type": "code",
   "execution_count": null,
   "metadata": {},
   "outputs": [],
   "source": []
  },
  {
   "cell_type": "code",
   "execution_count": null,
   "metadata": {},
   "outputs": [],
   "source": []
  }
 ],
 "metadata": {
  "kernelspec": {
   "display_name": "Python 3",
   "language": "python",
   "name": "python3"
  },
  "language_info": {
   "codemirror_mode": {
    "name": "ipython",
    "version": 3
   },
   "file_extension": ".py",
   "mimetype": "text/x-python",
   "name": "python",
   "nbconvert_exporter": "python",
   "pygments_lexer": "ipython3",
   "version": "3.6.9"
  }
 },
 "nbformat": 4,
 "nbformat_minor": 2
}
